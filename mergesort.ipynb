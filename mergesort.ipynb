{
 "cells": [
  {
   "cell_type": "code",
   "execution_count": 72,
   "metadata": {},
   "outputs": [],
   "source": [
    "def merge(a,lo,mid,hi):\n",
    "        i=lo\n",
    "        j=mid+1\n",
    "        aux=[]\n",
    "        for k in range(len(a)):\n",
    "            aux.append(a[k])\n",
    "        for k in range(lo,hi+1):\n",
    "            if i> mid and j>hi:\n",
    "                print(k,i,j)\n",
    "            elif i > mid:\n",
    "                a[k] = aux[j]\n",
    "                j += 1\n",
    "            elif j > hi:\n",
    "                a[k] = aux[i]\n",
    "                i += 1\n",
    "            elif aux[i]<aux[j]:\n",
    "                a[k] = aux[i]\n",
    "                i += 1\n",
    "            else:\n",
    "                a[k] = aux[j]\n",
    "                j += 1\n",
    "\n",
    "\n",
    "def MergeSort(a,lo,hi): \n",
    "    if lo<hi:\n",
    "        mid = (lo + hi-1)//2\n",
    "        MergeSort(a,lo,mid)\n",
    "        MergeSort(a,mid+1,hi)\n",
    "        merge(a,lo,mid,hi)\n",
    "   \n",
    "    \n",
    "    "
   ]
  },
  {
   "cell_type": "code",
   "execution_count": 73,
   "metadata": {},
   "outputs": [
    {
     "name": "stdout",
     "output_type": "stream",
     "text": [
      "[1, 2, 3, 8, 10]\n"
     ]
    }
   ],
   "source": [
    "a = [3,1,2,8,10]\n",
    "MergeSort(a,0,4)\n",
    "print(a)"
   ]
  },
  {
   "cell_type": "code",
   "execution_count": null,
   "metadata": {},
   "outputs": [],
   "source": []
  },
  {
   "cell_type": "code",
   "execution_count": null,
   "metadata": {},
   "outputs": [],
   "source": []
  }
 ],
 "metadata": {
  "kernelspec": {
   "display_name": "Python 3",
   "language": "python",
   "name": "python3"
  },
  "language_info": {
   "codemirror_mode": {
    "name": "ipython",
    "version": 3
   },
   "file_extension": ".py",
   "mimetype": "text/x-python",
   "name": "python",
   "nbconvert_exporter": "python",
   "pygments_lexer": "ipython3",
   "version": "3.7.3"
  }
 },
 "nbformat": 4,
 "nbformat_minor": 2
}
