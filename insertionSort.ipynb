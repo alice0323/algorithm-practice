{
 "cells": [
  {
   "cell_type": "code",
   "execution_count": 19,
   "metadata": {},
   "outputs": [],
   "source": [
    "def insertionSort(a):\n",
    "    count1 = 0\n",
    "    count2 = 0\n",
    "    for i in range(1,len(a)):\n",
    "        for j in range(i,0,-1):\n",
    "            count1 += 1\n",
    "            if a[j]<a[j-1]:\n",
    "                count2 += 1\n",
    "                m = a[j]\n",
    "                a[j] = a[j-1]\n",
    "                a[j-1] = m\n",
    "            else:\n",
    "                break\n",
    "    print('队列长度：',len(a))\n",
    "    print('比较次数：',count1)\n",
    "    print('交换次数：',count2)\n",
    "    return a"
   ]
  },
  {
   "cell_type": "code",
   "execution_count": 20,
   "metadata": {},
   "outputs": [
    {
     "name": "stdout",
     "output_type": "stream",
     "text": [
      "队列长度： 6\n",
      "比较次数： 10\n",
      "交换次数： 5\n"
     ]
    },
    {
     "data": {
      "text/plain": [
       "[1, 2, 3, 5, 6, 8]"
      ]
     },
     "execution_count": 20,
     "metadata": {},
     "output_type": "execute_result"
    }
   ],
   "source": [
    "a =[1,3,8,5,2,6]\n",
    "insertionSort(a)"
   ]
  },
  {
   "cell_type": "code",
   "execution_count": null,
   "metadata": {},
   "outputs": [],
   "source": []
  }
 ],
 "metadata": {
  "kernelspec": {
   "display_name": "Python 3",
   "language": "python",
   "name": "python3"
  },
  "language_info": {
   "codemirror_mode": {
    "name": "ipython",
    "version": 3
   },
   "file_extension": ".py",
   "mimetype": "text/x-python",
   "name": "python",
   "nbconvert_exporter": "python",
   "pygments_lexer": "ipython3",
   "version": "3.7.3"
  }
 },
 "nbformat": 4,
 "nbformat_minor": 2
}
