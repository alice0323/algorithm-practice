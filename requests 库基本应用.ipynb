{
 "cells": [
  {
   "cell_type": "code",
   "execution_count": 4,
   "metadata": {},
   "outputs": [],
   "source": [
    "import requests\n",
    "import os"
   ]
  },
  {
   "cell_type": "code",
   "execution_count": null,
   "metadata": {},
   "outputs": [],
   "source": [
    "def gethtml(url):\n",
    "    try:\n",
    "        r = requests.get(url,timeout=30)\n",
    "        r.raise_for_status() #如果状态码不是200，引发httperror异常\n",
    "        r.encoding = r.apparent_encoding\n",
    "        return r.text\n",
    "    except:\n",
    "        return 'error detected'\n"
   ]
  },
  {
   "cell_type": "markdown",
   "metadata": {},
   "source": [
    "#### simulate google search"
   ]
  },
  {
   "cell_type": "code",
   "execution_count": 3,
   "metadata": {},
   "outputs": [
    {
     "data": {
      "text/plain": [
       "'<!doctype html><html lang=\"en\"><head><meta charset=\"UTF-8\"><meta content=\"/images/branding/googleg/1'"
      ]
     },
     "execution_count": 3,
     "metadata": {},
     "output_type": "execute_result"
    }
   ],
   "source": [
    "url = 'https://www.google.com/search?'\n",
    "kv = {'q':'python'} #搜索关键字\n",
    "agent = {'user-agent':'Mozilla/5.0'} #隐藏自己的python身份\n",
    "r = requests.get(url,timeout=30, params = kv,headers=agent)\n",
    "r.text[:100]"
   ]
  },
  {
   "cell_type": "markdown",
   "metadata": {},
   "source": [
    "#### scrape pic and store"
   ]
  },
  {
   "cell_type": "code",
   "execution_count": 8,
   "metadata": {},
   "outputs": [
    {
     "name": "stdout",
     "output_type": "stream",
     "text": [
      "picture saved.\n"
     ]
    }
   ],
   "source": [
    "url = 'https://www.nationalgeographic.com/science/2020/05/hidden-landslides-detected-in-the-gulf-of-mexico/#/01_oil_landslides_ap_17352703391917.jpg'\n",
    "root = r'C:\\Users\\Administrator\\Pictures\\wallpaper\\pic'\n",
    "path = root + url.split('/')[-1]\n",
    "try:\n",
    "    if not os.path.exists(root):\n",
    "        os.mkdir(root)\n",
    "    if not os.path.exists(path):\n",
    "        r = requests.get(url)\n",
    "        with open(path,'wb') as f:\n",
    "            f.write(r.content)\n",
    "            f.close()\n",
    "            print('picture saved.')\n",
    "    else:\n",
    "        print('picture exists')\n",
    "except:\n",
    "    print('request failed!')"
   ]
  },
  {
   "cell_type": "code",
   "execution_count": null,
   "metadata": {},
   "outputs": [],
   "source": []
  },
  {
   "cell_type": "code",
   "execution_count": null,
   "metadata": {},
   "outputs": [],
   "source": []
  },
  {
   "cell_type": "code",
   "execution_count": null,
   "metadata": {},
   "outputs": [],
   "source": []
  },
  {
   "cell_type": "code",
   "execution_count": null,
   "metadata": {},
   "outputs": [],
   "source": []
  }
 ],
 "metadata": {
  "kernelspec": {
   "display_name": "Python 3",
   "language": "python",
   "name": "python3"
  },
  "language_info": {
   "codemirror_mode": {
    "name": "ipython",
    "version": 3
   },
   "file_extension": ".py",
   "mimetype": "text/x-python",
   "name": "python",
   "nbconvert_exporter": "python",
   "pygments_lexer": "ipython3",
   "version": "3.7.3"
  }
 },
 "nbformat": 4,
 "nbformat_minor": 2
}
